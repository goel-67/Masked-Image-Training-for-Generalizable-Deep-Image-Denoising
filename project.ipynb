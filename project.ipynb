{
 "cells": [
  {
   "cell_type": "markdown",
   "metadata": {},
   "source": [
    "Note that the json file has to be changed depending on the type of test."
   ]
  },
  {
   "cell_type": "code",
   "execution_count": 38,
   "metadata": {},
   "outputs": [
    {
     "name": "stdout",
     "output_type": "stream",
     "text": [
      "export CUDA_VISIBLE_DEVICES=0"
     ]
    },
    {
     "name": "stderr",
     "output_type": "stream",
     "text": [
      "c:\\Users\\laksh\\AppData\\Local\\Programs\\Python\\Python312\\Lib\\site-packages\\torch\\functional.py:513: UserWarning: torch.meshgrid: in an upcoming release, it will be required to pass the indexing argument. (Triggered internally at C:\\actions-runner\\_work\\pytorch\\pytorch\\builder\\windows\\pytorch\\aten\\src\\ATen\\native\\TensorShape.cpp:3610.)\n",
      "  return _VF.meshgrid(tensors, **kwargs)  # type: ignore[attr-defined]\n",
      "c:\\Users\\laksh\\Downloads\\MaskedDenoising-main (1)\\MaskedDenoising-main\\main_test_swinir.py:261: FutureWarning: You are using `torch.load` with `weights_only=False` (the current default value), which uses the default pickle module implicitly. It is possible to construct malicious pickle data which will execute arbitrary code during unpickling (See https://github.com/pytorch/pytorch/blob/main/SECURITY.md#untrusted-models for more details). In a future release, the default value for `weights_only` will be flipped to `True`. This limits the functions that could be executed during unpickling. Arbitrary objects will no longer be allowed to be loaded via this mode unless they are explicitly allowlisted by the user via `torch.serialization.add_safe_globals`. We recommend you start setting `weights_only=True` for any use case where you don't have full control of the loaded file. Please open an issue on GitHub for any issues related to this experimental feature.\n",
      "  pretrained_model = torch.load(args.model_path, map_location='cpu')\n",
      "c:\\Users\\laksh\\AppData\\Local\\Programs\\Python\\Python312\\Lib\\site-packages\\torchvision\\models\\_utils.py:208: UserWarning: The parameter 'pretrained' is deprecated since 0.13 and may be removed in the future, please use 'weights' instead.\n",
      "  warnings.warn(\n",
      "c:\\Users\\laksh\\AppData\\Local\\Programs\\Python\\Python312\\Lib\\site-packages\\torchvision\\models\\_utils.py:223: UserWarning: Arguments other than a weight enum or `None` for 'weights' are deprecated since 0.13 and may be removed in the future. The current behavior is equivalent to passing `weights=AlexNet_Weights.IMAGENET1K_V1`. You can also use `weights=AlexNet_Weights.DEFAULT` to get the most up-to-date weights.\n",
      "  warnings.warn(msg)\n",
      "c:\\Users\\laksh\\AppData\\Local\\Programs\\Python\\Python312\\Lib\\site-packages\\lpips\\lpips.py:107: FutureWarning: You are using `torch.load` with `weights_only=False` (the current default value), which uses the default pickle module implicitly. It is possible to construct malicious pickle data which will execute arbitrary code during unpickling (See https://github.com/pytorch/pytorch/blob/main/SECURITY.md#untrusted-models for more details). In a future release, the default value for `weights_only` will be flipped to `True`. This limits the functions that could be executed during unpickling. Arbitrary objects will no longer be allowed to be loaded via this mode unless they are explicitly allowlisted by the user via `torch.serialization.add_safe_globals`. We recommend you start setting `weights_only=True` for any use case where you don't have full control of the loaded file. Please open an issue on GitHub for any issues related to this experimental feature.\n",
      "  self.load_state_dict(torch.load(model_path, map_location='cpu'), strict=False)\n"
     ]
    },
    {
     "name": "stdout",
     "output_type": "stream",
     "text": [
      "\n",
      "number of GPUs is: 1\n",
      "Loading model from model_zoo/input_mask_80_90.pth\n",
      "Model loaded successfully.\n",
      "testset/McM/HR\n",
      "Setting up [LPIPS] perceptual loss: trunk [alex], v[0.1], spatial [off]\n",
      "Loading model from: c:\\Users\\laksh\\AppData\\Local\\Programs\\Python\\Python312\\Lib\\site-packages\\lpips\\weights\\v0.1\\alex.pth\n",
      "Testing 0 1                    - PSNR: 26.09 dB; SSIM: 0.7956; PSNR_Y: 29.59 dB; SSIM_Y: 0.8797; LPIPS: 0.0877\n",
      "Testing 1 10                   - PSNR: 31.11 dB; SSIM: 0.7845; PSNR_Y: 34.16 dB; SSIM_Y: 0.9316; LPIPS: 0.0694\n",
      "Testing 2 11                   - PSNR: 31.52 dB; SSIM: 0.7405; PSNR_Y: 34.35 dB; SSIM_Y: 0.9240; LPIPS: 0.0963\n",
      "Testing 3 12                   - PSNR: 31.69 dB; SSIM: 0.8530; PSNR_Y: 34.99 dB; SSIM_Y: 0.9317; LPIPS: 0.1301\n",
      "Testing 4 13                   - PSNR: 33.64 dB; SSIM: 0.8592; PSNR_Y: 37.18 dB; SSIM_Y: 0.9185; LPIPS: 0.1875\n",
      "Testing 5 14                   - PSNR: 31.86 dB; SSIM: 0.7914; PSNR_Y: 35.25 dB; SSIM_Y: 0.9216; LPIPS: 0.1131\n",
      "Testing 6 15                   - PSNR: 31.46 dB; SSIM: 0.6876; PSNR_Y: 34.79 dB; SSIM_Y: 0.9233; LPIPS: 0.0814\n",
      "Testing 7 16                   - PSNR: 28.53 dB; SSIM: 0.7806; PSNR_Y: 30.83 dB; SSIM_Y: 0.9015; LPIPS: 0.0631\n",
      "Testing 8 17                   - PSNR: 28.36 dB; SSIM: 0.7902; PSNR_Y: 33.16 dB; SSIM_Y: 0.9112; LPIPS: 0.0883\n",
      "Testing 9 18                   - PSNR: 29.15 dB; SSIM: 0.8140; PSNR_Y: 30.93 dB; SSIM_Y: 0.8879; LPIPS: 0.1103\n",
      "Testing 10 2                    - PSNR: 29.46 dB; SSIM: 0.7740; PSNR_Y: 32.54 dB; SSIM_Y: 0.9119; LPIPS: 0.1012\n",
      "Testing 11 3                    - PSNR: 28.83 dB; SSIM: 0.8621; PSNR_Y: 31.43 dB; SSIM_Y: 0.9215; LPIPS: 0.0635\n",
      "Testing 12 4                    - PSNR: 28.03 dB; SSIM: 0.8846; PSNR_Y: 30.40 dB; SSIM_Y: 0.9165; LPIPS: 0.1250\n",
      "Testing 13 5                    - PSNR: 29.22 dB; SSIM: 0.8211; PSNR_Y: 32.33 dB; SSIM_Y: 0.8917; LPIPS: 0.0977\n",
      "Testing 14 6                    - PSNR: 30.71 dB; SSIM: 0.8348; PSNR_Y: 33.98 dB; SSIM_Y: 0.9152; LPIPS: 0.0891\n",
      "Testing 15 7                    - PSNR: 29.90 dB; SSIM: 0.8030; PSNR_Y: 31.82 dB; SSIM_Y: 0.8855; LPIPS: 0.1716\n",
      "Testing 16 8                    - PSNR: 31.70 dB; SSIM: 0.6717; PSNR_Y: 33.51 dB; SSIM_Y: 0.9438; LPIPS: 0.0824\n",
      "Testing 17 9                    - PSNR: 31.06 dB; SSIM: 0.8192; PSNR_Y: 34.03 dB; SSIM_Y: 0.9227; LPIPS: 0.0996\n",
      "\n",
      "results/input_mask_80_90/McM_poisson_20 \n",
      "-- Average PSNR/SSIM(RGB): 30.13 dB; 0.7982\n",
      "-- Average PSNR_Y/SSIM_Y/LPIPS: 33.07/0.9133/0.1032\n"
     ]
    }
   ],
   "source": [
    "!python main_test_swinir.py --model_path model_zoo/input_mask_80_90.pth --name input_mask_80_90/McM_poisson_20 --opt model_zoo/input_mask_80_90.json --folder_gt testset/McM/HR --folder_lq testset/McM/McM_poisson_20"
   ]
  },
  {
   "cell_type": "markdown",
   "metadata": {},
   "source": [
    "64 samples per pixel"
   ]
  },
  {
   "cell_type": "markdown",
   "metadata": {},
   "source": [
    "att mask only"
   ]
  },
  {
   "cell_type": "code",
   "execution_count": 23,
   "metadata": {},
   "outputs": [
    {
     "name": "stdout",
     "output_type": "stream",
     "text": [
      "export CUDA_VISIBLE_DEVICES=0\n",
      "number of GPUs is: 1\n",
      "loading model from model_zoo/input_mask_80_90.pth\n",
      "testset/McM/HR\n",
      "Setting up [LPIPS] perceptual loss: trunk [alex], v[0.1], spatial [off]\n",
      "Loading model from: c:\\Users\\laksh\\AppData\\Local\\Programs\\Python\\Python312\\Lib\\site-packages\\lpips\\weights\\v0.1\\alex.pth\n",
      "Testing 0 1                    - PSNR: 26.07 dB; SSIM: 0.7950; PSNR_Y: 29.60 dB; SSIM_Y: 0.8804; LPIPS: 0.0824\n",
      "Testing 1 10                   - PSNR: 30.87 dB; SSIM: 0.7837; PSNR_Y: 33.97 dB; SSIM_Y: 0.9291; LPIPS: 0.0707\n",
      "Testing 2 11                   - PSNR: 31.53 dB; SSIM: 0.7438; PSNR_Y: 34.52 dB; SSIM_Y: 0.9231; LPIPS: 0.0951\n",
      "Testing 3 12                   - PSNR: 31.58 dB; SSIM: 0.8491; PSNR_Y: 34.80 dB; SSIM_Y: 0.9278; LPIPS: 0.1323\n",
      "Testing 4 13                   - PSNR: 33.44 dB; SSIM: 0.8531; PSNR_Y: 36.89 dB; SSIM_Y: 0.9134; LPIPS: 0.1878\n",
      "Testing 5 14                   - PSNR: 31.67 dB; SSIM: 0.7854; PSNR_Y: 35.13 dB; SSIM_Y: 0.9206; LPIPS: 0.1084\n",
      "Testing 6 15                   - PSNR: 31.25 dB; SSIM: 0.6888; PSNR_Y: 34.62 dB; SSIM_Y: 0.9216; LPIPS: 0.0804\n",
      "Testing 7 16                   - PSNR: 28.47 dB; SSIM: 0.7828; PSNR_Y: 30.80 dB; SSIM_Y: 0.9025; LPIPS: 0.0620\n",
      "Testing 8 17                   - PSNR: 28.11 dB; SSIM: 0.7827; PSNR_Y: 33.10 dB; SSIM_Y: 0.9105; LPIPS: 0.0875\n",
      "Testing 9 18                   - PSNR: 29.20 dB; SSIM: 0.8134; PSNR_Y: 31.03 dB; SSIM_Y: 0.8871; LPIPS: 0.1087\n",
      "Testing 10 2                    - PSNR: 29.31 dB; SSIM: 0.7734; PSNR_Y: 32.51 dB; SSIM_Y: 0.9119; LPIPS: 0.1016\n",
      "Testing 11 3                    - PSNR: 28.82 dB; SSIM: 0.8625; PSNR_Y: 31.47 dB; SSIM_Y: 0.9203; LPIPS: 0.0627\n",
      "Testing 12 4                    - PSNR: 28.33 dB; SSIM: 0.8899; PSNR_Y: 30.87 dB; SSIM_Y: 0.9211; LPIPS: 0.1212\n",
      "Testing 13 5                    - PSNR: 29.16 dB; SSIM: 0.8196; PSNR_Y: 32.32 dB; SSIM_Y: 0.8907; LPIPS: 0.0996\n",
      "Testing 14 6                    - PSNR: 30.56 dB; SSIM: 0.8334; PSNR_Y: 33.86 dB; SSIM_Y: 0.9135; LPIPS: 0.0922\n",
      "Testing 15 7                    - PSNR: 29.92 dB; SSIM: 0.8058; PSNR_Y: 31.91 dB; SSIM_Y: 0.8861; LPIPS: 0.1689\n",
      "Testing 16 8                    - PSNR: 31.75 dB; SSIM: 0.6786; PSNR_Y: 33.57 dB; SSIM_Y: 0.9440; LPIPS: 0.0815\n",
      "Testing 17 9                    - PSNR: 30.98 dB; SSIM: 0.8174; PSNR_Y: 34.10 dB; SSIM_Y: 0.9209; LPIPS: 0.1001\n",
      "\n",
      "results/input_mask_80_90/McM_poisson_20_att \n",
      "-- Average PSNR/SSIM(RGB): 30.06 dB; 0.7977\n",
      "-- Average PSNR_Y/SSIM_Y/LPIPS: 33.06/0.9125/0.1024\n"
     ]
    },
    {
     "name": "stderr",
     "output_type": "stream",
     "text": [
      "c:\\Users\\laksh\\AppData\\Local\\Programs\\Python\\Python312\\Lib\\site-packages\\torch\\functional.py:513: UserWarning: torch.meshgrid: in an upcoming release, it will be required to pass the indexing argument. (Triggered internally at C:\\actions-runner\\_work\\pytorch\\pytorch\\builder\\windows\\pytorch\\aten\\src\\ATen\\native\\TensorShape.cpp:3610.)\n",
      "  return _VF.meshgrid(tensors, **kwargs)  # type: ignore[attr-defined]\n",
      "c:\\Users\\laksh\\Downloads\\MaskedDenoising-main (1)\\MaskedDenoising-main\\main_test_swinir.py:198: FutureWarning: You are using `torch.load` with `weights_only=False` (the current default value), which uses the default pickle module implicitly. It is possible to construct malicious pickle data which will execute arbitrary code during unpickling (See https://github.com/pytorch/pytorch/blob/main/SECURITY.md#untrusted-models for more details). In a future release, the default value for `weights_only` will be flipped to `True`. This limits the functions that could be executed during unpickling. Arbitrary objects will no longer be allowed to be loaded via this mode unless they are explicitly allowlisted by the user via `torch.serialization.add_safe_globals`. We recommend you start setting `weights_only=True` for any use case where you don't have full control of the loaded file. Please open an issue on GitHub for any issues related to this experimental feature.\n",
      "  pretrained_model = torch.load(args.model_path)\n",
      "c:\\Users\\laksh\\AppData\\Local\\Programs\\Python\\Python312\\Lib\\site-packages\\torchvision\\models\\_utils.py:208: UserWarning: The parameter 'pretrained' is deprecated since 0.13 and may be removed in the future, please use 'weights' instead.\n",
      "  warnings.warn(\n",
      "c:\\Users\\laksh\\AppData\\Local\\Programs\\Python\\Python312\\Lib\\site-packages\\torchvision\\models\\_utils.py:223: UserWarning: Arguments other than a weight enum or `None` for 'weights' are deprecated since 0.13 and may be removed in the future. The current behavior is equivalent to passing `weights=AlexNet_Weights.IMAGENET1K_V1`. You can also use `weights=AlexNet_Weights.DEFAULT` to get the most up-to-date weights.\n",
      "  warnings.warn(msg)\n",
      "c:\\Users\\laksh\\AppData\\Local\\Programs\\Python\\Python312\\Lib\\site-packages\\lpips\\lpips.py:107: FutureWarning: You are using `torch.load` with `weights_only=False` (the current default value), which uses the default pickle module implicitly. It is possible to construct malicious pickle data which will execute arbitrary code during unpickling (See https://github.com/pytorch/pytorch/blob/main/SECURITY.md#untrusted-models for more details). In a future release, the default value for `weights_only` will be flipped to `True`. This limits the functions that could be executed during unpickling. Arbitrary objects will no longer be allowed to be loaded via this mode unless they are explicitly allowlisted by the user via `torch.serialization.add_safe_globals`. We recommend you start setting `weights_only=True` for any use case where you don't have full control of the loaded file. Please open an issue on GitHub for any issues related to this experimental feature.\n",
      "  self.load_state_dict(torch.load(model_path, map_location='cpu'), strict=False)\n"
     ]
    }
   ],
   "source": [
    "!python main_test_swinir.py --model_path model_zoo/input_mask_80_90.pth --name input_mask_80_90/McM_poisson_20_att --opt model_zoo/input_mask_80_90.json --folder_gt testset/McM/HR --folder_lq testset/McM/McM_poisson_20\n"
   ]
  },
  {
   "cell_type": "markdown",
   "metadata": {},
   "source": [
    "input mask only"
   ]
  },
  {
   "cell_type": "code",
   "execution_count": 21,
   "metadata": {},
   "outputs": [
    {
     "name": "stdout",
     "output_type": "stream",
     "text": [
      "export CUDA_VISIBLE_DEVICES=0\n",
      "number of GPUs is: 1\n",
      "loading model from model_zoo/input_mask_80_90.pth\n",
      "testset/McM/HR\n",
      "Setting up [LPIPS] perceptual loss: trunk [alex], v[0.1], spatial [off]\n",
      "Loading model from: c:\\Users\\laksh\\AppData\\Local\\Programs\\Python\\Python312\\Lib\\site-packages\\lpips\\weights\\v0.1\\alex.pth\n",
      "Testing 0 1                    - PSNR: 15.08 dB; SSIM: 0.6354; PSNR_Y: 16.88 dB; SSIM_Y: 0.7292; LPIPS: 0.2580\n",
      "Testing 1 10                   - PSNR: 9.86 dB; SSIM: 0.4227; PSNR_Y: 11.41 dB; SSIM_Y: 0.5578; LPIPS: 0.3692\n",
      "Testing 2 11                   - PSNR: 9.98 dB; SSIM: 0.4675; PSNR_Y: 11.49 dB; SSIM_Y: 0.6398; LPIPS: 0.3655\n",
      "Testing 3 12                   - PSNR: 13.90 dB; SSIM: 0.6081; PSNR_Y: 15.50 dB; SSIM_Y: 0.7046; LPIPS: 0.3588\n",
      "Testing 4 13                   - PSNR: 20.46 dB; SSIM: 0.5966; PSNR_Y: 23.12 dB; SSIM_Y: 0.7162; LPIPS: 0.3887\n",
      "Testing 5 14                   - PSNR: 12.59 dB; SSIM: 0.5246; PSNR_Y: 14.03 dB; SSIM_Y: 0.6707; LPIPS: 0.3669\n",
      "Testing 6 15                   - PSNR: 8.46 dB; SSIM: 0.3948; PSNR_Y: 9.92 dB; SSIM_Y: 0.5655; LPIPS: 0.3898\n",
      "Testing 7 16                   - PSNR: 20.20 dB; SSIM: 0.5901; PSNR_Y: 21.98 dB; SSIM_Y: 0.6886; LPIPS: 0.2545\n",
      "Testing 8 17                   - PSNR: 9.72 dB; SSIM: 0.3776; PSNR_Y: 11.64 dB; SSIM_Y: 0.4552; LPIPS: 0.3730\n",
      "Testing 9 18                   - PSNR: 16.20 dB; SSIM: 0.6414; PSNR_Y: 18.21 dB; SSIM_Y: 0.7462; LPIPS: 0.3060\n",
      "Testing 10 2                    - PSNR: 11.00 dB; SSIM: 0.4714; PSNR_Y: 12.43 dB; SSIM_Y: 0.5977; LPIPS: 0.3526\n",
      "Testing 11 3                    - PSNR: 20.00 dB; SSIM: 0.6947; PSNR_Y: 22.94 dB; SSIM_Y: 0.7854; LPIPS: 0.2950\n",
      "Testing 12 4                    - PSNR: 22.72 dB; SSIM: 0.7129; PSNR_Y: 25.29 dB; SSIM_Y: 0.7758; LPIPS: 0.3497\n",
      "Testing 13 5                    - PSNR: 17.78 dB; SSIM: 0.6330; PSNR_Y: 19.70 dB; SSIM_Y: 0.7346; LPIPS: 0.2777\n",
      "Testing 14 6                    - PSNR: 16.53 dB; SSIM: 0.6404; PSNR_Y: 18.35 dB; SSIM_Y: 0.7434; LPIPS: 0.2386\n",
      "Testing 15 7                    - PSNR: 15.75 dB; SSIM: 0.6161; PSNR_Y: 17.62 dB; SSIM_Y: 0.7381; LPIPS: 0.4349\n",
      "Testing 16 8                    - PSNR: 16.69 dB; SSIM: 0.5729; PSNR_Y: 18.36 dB; SSIM_Y: 0.8407; LPIPS: 0.2679\n",
      "Testing 17 9                    - PSNR: 13.76 dB; SSIM: 0.5869; PSNR_Y: 15.52 dB; SSIM_Y: 0.7108; LPIPS: 0.3297\n",
      "\n",
      "results/input_mask_80_90/McM_poisson_20_inp \n",
      "-- Average PSNR/SSIM(RGB): 15.04 dB; 0.5659\n",
      "-- Average PSNR_Y/SSIM_Y/LPIPS: 16.91/0.6889/0.3320\n"
     ]
    },
    {
     "name": "stderr",
     "output_type": "stream",
     "text": [
      "c:\\Users\\laksh\\AppData\\Local\\Programs\\Python\\Python312\\Lib\\site-packages\\torch\\functional.py:513: UserWarning: torch.meshgrid: in an upcoming release, it will be required to pass the indexing argument. (Triggered internally at C:\\actions-runner\\_work\\pytorch\\pytorch\\builder\\windows\\pytorch\\aten\\src\\ATen\\native\\TensorShape.cpp:3610.)\n",
      "  return _VF.meshgrid(tensors, **kwargs)  # type: ignore[attr-defined]\n",
      "c:\\Users\\laksh\\Downloads\\MaskedDenoising-main (1)\\MaskedDenoising-main\\main_test_swinir.py:198: FutureWarning: You are using `torch.load` with `weights_only=False` (the current default value), which uses the default pickle module implicitly. It is possible to construct malicious pickle data which will execute arbitrary code during unpickling (See https://github.com/pytorch/pytorch/blob/main/SECURITY.md#untrusted-models for more details). In a future release, the default value for `weights_only` will be flipped to `True`. This limits the functions that could be executed during unpickling. Arbitrary objects will no longer be allowed to be loaded via this mode unless they are explicitly allowlisted by the user via `torch.serialization.add_safe_globals`. We recommend you start setting `weights_only=True` for any use case where you don't have full control of the loaded file. Please open an issue on GitHub for any issues related to this experimental feature.\n",
      "  pretrained_model = torch.load(args.model_path)\n",
      "c:\\Users\\laksh\\AppData\\Local\\Programs\\Python\\Python312\\Lib\\site-packages\\torchvision\\models\\_utils.py:208: UserWarning: The parameter 'pretrained' is deprecated since 0.13 and may be removed in the future, please use 'weights' instead.\n",
      "  warnings.warn(\n",
      "c:\\Users\\laksh\\AppData\\Local\\Programs\\Python\\Python312\\Lib\\site-packages\\torchvision\\models\\_utils.py:223: UserWarning: Arguments other than a weight enum or `None` for 'weights' are deprecated since 0.13 and may be removed in the future. The current behavior is equivalent to passing `weights=AlexNet_Weights.IMAGENET1K_V1`. You can also use `weights=AlexNet_Weights.DEFAULT` to get the most up-to-date weights.\n",
      "  warnings.warn(msg)\n",
      "c:\\Users\\laksh\\AppData\\Local\\Programs\\Python\\Python312\\Lib\\site-packages\\lpips\\lpips.py:107: FutureWarning: You are using `torch.load` with `weights_only=False` (the current default value), which uses the default pickle module implicitly. It is possible to construct malicious pickle data which will execute arbitrary code during unpickling (See https://github.com/pytorch/pytorch/blob/main/SECURITY.md#untrusted-models for more details). In a future release, the default value for `weights_only` will be flipped to `True`. This limits the functions that could be executed during unpickling. Arbitrary objects will no longer be allowed to be loaded via this mode unless they are explicitly allowlisted by the user via `torch.serialization.add_safe_globals`. We recommend you start setting `weights_only=True` for any use case where you don't have full control of the loaded file. Please open an issue on GitHub for any issues related to this experimental feature.\n",
      "  self.load_state_dict(torch.load(model_path, map_location='cpu'), strict=False)\n"
     ]
    }
   ],
   "source": [
    "!python main_test_swinir.py --model_path model_zoo/input_mask_80_90.pth --name input_mask_80_90/McM_poisson_20_inp --opt model_zoo/input_mask_80_90.json --folder_gt testset/McM/HR --folder_lq testset/McM/McM_poisson_20\n"
   ]
  },
  {
   "cell_type": "markdown",
   "metadata": {},
   "source": [
    "both masks"
   ]
  },
  {
   "cell_type": "code",
   "execution_count": 22,
   "metadata": {},
   "outputs": [
    {
     "name": "stdout",
     "output_type": "stream",
     "text": [
      "export CUDA_VISIBLE_DEVICES=0\n",
      "number of GPUs is: 1\n",
      "loading model from model_zoo/input_mask_80_90.pth\n",
      "testset/McM/HR\n",
      "Setting up [LPIPS] perceptual loss: trunk [alex], v[0.1], spatial [off]\n",
      "Loading model from: c:\\Users\\laksh\\AppData\\Local\\Programs\\Python\\Python312\\Lib\\site-packages\\lpips\\weights\\v0.1\\alex.pth\n",
      "Testing 0 1                    - PSNR: 26.08 dB; SSIM: 0.7957; PSNR_Y: 29.59 dB; SSIM_Y: 0.8797; LPIPS: 0.0872\n",
      "Testing 1 10                   - PSNR: 31.10 dB; SSIM: 0.7844; PSNR_Y: 34.16 dB; SSIM_Y: 0.9313; LPIPS: 0.0702\n",
      "Testing 2 11                   - PSNR: 31.52 dB; SSIM: 0.7412; PSNR_Y: 34.35 dB; SSIM_Y: 0.9241; LPIPS: 0.0958\n",
      "Testing 3 12                   - PSNR: 31.71 dB; SSIM: 0.8530; PSNR_Y: 35.00 dB; SSIM_Y: 0.9315; LPIPS: 0.1306\n",
      "Testing 4 13                   - PSNR: 33.64 dB; SSIM: 0.8591; PSNR_Y: 37.17 dB; SSIM_Y: 0.9184; LPIPS: 0.1873\n",
      "Testing 5 14                   - PSNR: 31.89 dB; SSIM: 0.7931; PSNR_Y: 35.29 dB; SSIM_Y: 0.9218; LPIPS: 0.1127\n",
      "Testing 6 15                   - PSNR: 31.47 dB; SSIM: 0.6884; PSNR_Y: 34.80 dB; SSIM_Y: 0.9233; LPIPS: 0.0821\n",
      "Testing 7 16                   - PSNR: 28.53 dB; SSIM: 0.7810; PSNR_Y: 30.84 dB; SSIM_Y: 0.9015; LPIPS: 0.0633\n",
      "Testing 8 17                   - PSNR: 28.35 dB; SSIM: 0.7902; PSNR_Y: 33.17 dB; SSIM_Y: 0.9112; LPIPS: 0.0876\n",
      "Testing 9 18                   - PSNR: 29.15 dB; SSIM: 0.8137; PSNR_Y: 30.93 dB; SSIM_Y: 0.8877; LPIPS: 0.1097\n",
      "Testing 10 2                    - PSNR: 29.46 dB; SSIM: 0.7733; PSNR_Y: 32.52 dB; SSIM_Y: 0.9118; LPIPS: 0.1009\n",
      "Testing 11 3                    - PSNR: 28.84 dB; SSIM: 0.8624; PSNR_Y: 31.44 dB; SSIM_Y: 0.9216; LPIPS: 0.0632\n",
      "Testing 12 4                    - PSNR: 28.02 dB; SSIM: 0.8847; PSNR_Y: 30.40 dB; SSIM_Y: 0.9165; LPIPS: 0.1245\n",
      "Testing 13 5                    - PSNR: 29.23 dB; SSIM: 0.8213; PSNR_Y: 32.34 dB; SSIM_Y: 0.8919; LPIPS: 0.0977\n",
      "Testing 14 6                    - PSNR: 30.73 dB; SSIM: 0.8350; PSNR_Y: 33.99 dB; SSIM_Y: 0.9152; LPIPS: 0.0879\n",
      "Testing 15 7                    - PSNR: 29.90 dB; SSIM: 0.8029; PSNR_Y: 31.82 dB; SSIM_Y: 0.8855; LPIPS: 0.1721\n",
      "Testing 16 8                    - PSNR: 31.70 dB; SSIM: 0.6718; PSNR_Y: 33.52 dB; SSIM_Y: 0.9439; LPIPS: 0.0830\n",
      "Testing 17 9                    - PSNR: 31.02 dB; SSIM: 0.8183; PSNR_Y: 34.01 dB; SSIM_Y: 0.9224; LPIPS: 0.1017\n",
      "\n",
      "results/input_mask_80_90/McM_poisson_20_both \n",
      "-- Average PSNR/SSIM(RGB): 30.13 dB; 0.7983\n",
      "-- Average PSNR_Y/SSIM_Y/LPIPS: 33.07/0.9133/0.1032\n"
     ]
    },
    {
     "name": "stderr",
     "output_type": "stream",
     "text": [
      "c:\\Users\\laksh\\AppData\\Local\\Programs\\Python\\Python312\\Lib\\site-packages\\torch\\functional.py:513: UserWarning: torch.meshgrid: in an upcoming release, it will be required to pass the indexing argument. (Triggered internally at C:\\actions-runner\\_work\\pytorch\\pytorch\\builder\\windows\\pytorch\\aten\\src\\ATen\\native\\TensorShape.cpp:3610.)\n",
      "  return _VF.meshgrid(tensors, **kwargs)  # type: ignore[attr-defined]\n",
      "c:\\Users\\laksh\\Downloads\\MaskedDenoising-main (1)\\MaskedDenoising-main\\main_test_swinir.py:198: FutureWarning: You are using `torch.load` with `weights_only=False` (the current default value), which uses the default pickle module implicitly. It is possible to construct malicious pickle data which will execute arbitrary code during unpickling (See https://github.com/pytorch/pytorch/blob/main/SECURITY.md#untrusted-models for more details). In a future release, the default value for `weights_only` will be flipped to `True`. This limits the functions that could be executed during unpickling. Arbitrary objects will no longer be allowed to be loaded via this mode unless they are explicitly allowlisted by the user via `torch.serialization.add_safe_globals`. We recommend you start setting `weights_only=True` for any use case where you don't have full control of the loaded file. Please open an issue on GitHub for any issues related to this experimental feature.\n",
      "  pretrained_model = torch.load(args.model_path)\n",
      "c:\\Users\\laksh\\AppData\\Local\\Programs\\Python\\Python312\\Lib\\site-packages\\torchvision\\models\\_utils.py:208: UserWarning: The parameter 'pretrained' is deprecated since 0.13 and may be removed in the future, please use 'weights' instead.\n",
      "  warnings.warn(\n",
      "c:\\Users\\laksh\\AppData\\Local\\Programs\\Python\\Python312\\Lib\\site-packages\\torchvision\\models\\_utils.py:223: UserWarning: Arguments other than a weight enum or `None` for 'weights' are deprecated since 0.13 and may be removed in the future. The current behavior is equivalent to passing `weights=AlexNet_Weights.IMAGENET1K_V1`. You can also use `weights=AlexNet_Weights.DEFAULT` to get the most up-to-date weights.\n",
      "  warnings.warn(msg)\n",
      "c:\\Users\\laksh\\AppData\\Local\\Programs\\Python\\Python312\\Lib\\site-packages\\lpips\\lpips.py:107: FutureWarning: You are using `torch.load` with `weights_only=False` (the current default value), which uses the default pickle module implicitly. It is possible to construct malicious pickle data which will execute arbitrary code during unpickling (See https://github.com/pytorch/pytorch/blob/main/SECURITY.md#untrusted-models for more details). In a future release, the default value for `weights_only` will be flipped to `True`. This limits the functions that could be executed during unpickling. Arbitrary objects will no longer be allowed to be loaded via this mode unless they are explicitly allowlisted by the user via `torch.serialization.add_safe_globals`. We recommend you start setting `weights_only=True` for any use case where you don't have full control of the loaded file. Please open an issue on GitHub for any issues related to this experimental feature.\n",
      "  self.load_state_dict(torch.load(model_path, map_location='cpu'), strict=False)\n"
     ]
    }
   ],
   "source": [
    "!python main_test_swinir.py --model_path model_zoo/input_mask_80_90.pth --name input_mask_80_90/McM_poisson_20_both --opt model_zoo/input_mask_80_90.json --folder_gt testset/McM/HR --folder_lq testset/McM/McM_poisson_20\n"
   ]
  },
  {
   "cell_type": "markdown",
   "metadata": {},
   "source": [
    "comparing different mask ratios "
   ]
  },
  {
   "cell_type": "markdown",
   "metadata": {},
   "source": [
    "65%"
   ]
  },
  {
   "cell_type": "code",
   "execution_count": 10,
   "metadata": {},
   "outputs": [
    {
     "name": "stdout",
     "output_type": "stream",
     "text": [
      "export CUDA_VISIBLE_DEVICES=0\n",
      "number of GPUs is: 1\n",
      "loading model from model_zoo/input_mask_80_90.pth\n",
      "testset/McM/HR\n",
      "Setting up [LPIPS] perceptual loss: trunk [alex], v[0.1], spatial [off]\n",
      "Loading model from: c:\\Users\\laksh\\AppData\\Local\\Programs\\Python\\Python312\\Lib\\site-packages\\lpips\\weights\\v0.1\\alex.pth\n",
      "Testing 0 1                    - PSNR: 25.95 dB; SSIM: 0.7897; PSNR_Y: 29.38 dB; SSIM_Y: 0.8752; LPIPS: 0.1013\n",
      "Testing 1 10                   - PSNR: 31.03 dB; SSIM: 0.7765; PSNR_Y: 34.09 dB; SSIM_Y: 0.9329; LPIPS: 0.0740\n",
      "Testing 2 11                   - PSNR: 30.98 dB; SSIM: 0.7194; PSNR_Y: 33.50 dB; SSIM_Y: 0.9225; LPIPS: 0.1015\n",
      "Testing 3 12                   - PSNR: 31.56 dB; SSIM: 0.8529; PSNR_Y: 34.98 dB; SSIM_Y: 0.9348; LPIPS: 0.1359\n",
      "Testing 4 13                   - PSNR: 33.80 dB; SSIM: 0.8680; PSNR_Y: 37.53 dB; SSIM_Y: 0.9260; LPIPS: 0.1944\n",
      "Testing 5 14                   - PSNR: 31.76 dB; SSIM: 0.7941; PSNR_Y: 35.28 dB; SSIM_Y: 0.9223; LPIPS: 0.1209\n",
      "Testing 6 15                   - PSNR: 31.33 dB; SSIM: 0.6762; PSNR_Y: 34.56 dB; SSIM_Y: 0.9242; LPIPS: 0.0861\n",
      "Testing 7 16                   - PSNR: 28.29 dB; SSIM: 0.7713; PSNR_Y: 30.46 dB; SSIM_Y: 0.8968; LPIPS: 0.0701\n",
      "Testing 8 17                   - PSNR: 28.27 dB; SSIM: 0.7870; PSNR_Y: 32.88 dB; SSIM_Y: 0.9087; LPIPS: 0.0941\n",
      "Testing 9 18                   - PSNR: 28.72 dB; SSIM: 0.8064; PSNR_Y: 30.38 dB; SSIM_Y: 0.8848; LPIPS: 0.1212\n",
      "Testing 10 2                    - PSNR: 29.33 dB; SSIM: 0.7595; PSNR_Y: 32.21 dB; SSIM_Y: 0.9095; LPIPS: 0.1049\n",
      "Testing 11 3                    - PSNR: 28.71 dB; SSIM: 0.8572; PSNR_Y: 31.26 dB; SSIM_Y: 0.9210; LPIPS: 0.0684\n",
      "Testing 12 4                    - PSNR: 27.30 dB; SSIM: 0.8758; PSNR_Y: 29.41 dB; SSIM_Y: 0.9093; LPIPS: 0.1319\n",
      "Testing 13 5                    - PSNR: 29.22 dB; SSIM: 0.8220; PSNR_Y: 32.35 dB; SSIM_Y: 0.8934; LPIPS: 0.1002\n",
      "Testing 14 6                    - PSNR: 30.80 dB; SSIM: 0.8323; PSNR_Y: 34.06 dB; SSIM_Y: 0.9159; LPIPS: 0.0886\n",
      "Testing 15 7                    - PSNR: 29.77 dB; SSIM: 0.7953; PSNR_Y: 31.64 dB; SSIM_Y: 0.8838; LPIPS: 0.1796\n",
      "Testing 16 8                    - PSNR: 31.45 dB; SSIM: 0.6543; PSNR_Y: 33.24 dB; SSIM_Y: 0.9422; LPIPS: 0.0850\n",
      "Testing 17 9                    - PSNR: 30.80 dB; SSIM: 0.8124; PSNR_Y: 33.59 dB; SSIM_Y: 0.9235; LPIPS: 0.1046\n",
      "\n",
      "results/input_mask_80_90/McM_poisson_20_65 \n",
      "-- Average PSNR/SSIM(RGB): 29.95 dB; 0.7917\n",
      "-- Average PSNR_Y/SSIM_Y/LPIPS: 32.82/0.9126/0.1090\n"
     ]
    },
    {
     "name": "stderr",
     "output_type": "stream",
     "text": [
      "c:\\Users\\laksh\\AppData\\Local\\Programs\\Python\\Python312\\Lib\\site-packages\\torch\\functional.py:513: UserWarning: torch.meshgrid: in an upcoming release, it will be required to pass the indexing argument. (Triggered internally at C:\\actions-runner\\_work\\pytorch\\pytorch\\builder\\windows\\pytorch\\aten\\src\\ATen\\native\\TensorShape.cpp:3610.)\n",
      "  return _VF.meshgrid(tensors, **kwargs)  # type: ignore[attr-defined]\n",
      "c:\\Users\\laksh\\Downloads\\MaskedDenoising-main (1)\\MaskedDenoising-main\\main_test_swinir.py:198: FutureWarning: You are using `torch.load` with `weights_only=False` (the current default value), which uses the default pickle module implicitly. It is possible to construct malicious pickle data which will execute arbitrary code during unpickling (See https://github.com/pytorch/pytorch/blob/main/SECURITY.md#untrusted-models for more details). In a future release, the default value for `weights_only` will be flipped to `True`. This limits the functions that could be executed during unpickling. Arbitrary objects will no longer be allowed to be loaded via this mode unless they are explicitly allowlisted by the user via `torch.serialization.add_safe_globals`. We recommend you start setting `weights_only=True` for any use case where you don't have full control of the loaded file. Please open an issue on GitHub for any issues related to this experimental feature.\n",
      "  pretrained_model = torch.load(args.model_path)\n",
      "c:\\Users\\laksh\\AppData\\Local\\Programs\\Python\\Python312\\Lib\\site-packages\\torchvision\\models\\_utils.py:208: UserWarning: The parameter 'pretrained' is deprecated since 0.13 and may be removed in the future, please use 'weights' instead.\n",
      "  warnings.warn(\n",
      "c:\\Users\\laksh\\AppData\\Local\\Programs\\Python\\Python312\\Lib\\site-packages\\torchvision\\models\\_utils.py:223: UserWarning: Arguments other than a weight enum or `None` for 'weights' are deprecated since 0.13 and may be removed in the future. The current behavior is equivalent to passing `weights=AlexNet_Weights.IMAGENET1K_V1`. You can also use `weights=AlexNet_Weights.DEFAULT` to get the most up-to-date weights.\n",
      "  warnings.warn(msg)\n",
      "c:\\Users\\laksh\\AppData\\Local\\Programs\\Python\\Python312\\Lib\\site-packages\\lpips\\lpips.py:107: FutureWarning: You are using `torch.load` with `weights_only=False` (the current default value), which uses the default pickle module implicitly. It is possible to construct malicious pickle data which will execute arbitrary code during unpickling (See https://github.com/pytorch/pytorch/blob/main/SECURITY.md#untrusted-models for more details). In a future release, the default value for `weights_only` will be flipped to `True`. This limits the functions that could be executed during unpickling. Arbitrary objects will no longer be allowed to be loaded via this mode unless they are explicitly allowlisted by the user via `torch.serialization.add_safe_globals`. We recommend you start setting `weights_only=True` for any use case where you don't have full control of the loaded file. Please open an issue on GitHub for any issues related to this experimental feature.\n",
      "  self.load_state_dict(torch.load(model_path, map_location='cpu'), strict=False)\n"
     ]
    }
   ],
   "source": [
    "!python main_test_swinir.py --model_path model_zoo/input_mask_80_90.pth --name input_mask_80_90/McM_poisson_20_65 --opt model_zoo/input_mask_80_90.json --folder_gt testset/McM/HR --folder_lq testset/McM/McM_poisson_20\n"
   ]
  },
  {
   "cell_type": "markdown",
   "metadata": {},
   "source": [
    "75%"
   ]
  },
  {
   "cell_type": "code",
   "execution_count": 11,
   "metadata": {},
   "outputs": [
    {
     "name": "stdout",
     "output_type": "stream",
     "text": [
      "export CUDA_VISIBLE_DEVICES=0\n",
      "number of GPUs is: 1\n",
      "loading model from model_zoo/input_mask_80_90.pth\n",
      "testset/McM/HR\n",
      "Setting up [LPIPS] perceptual loss: trunk [alex], v[0.1], spatial [off]\n",
      "Loading model from: c:\\Users\\laksh\\AppData\\Local\\Programs\\Python\\Python312\\Lib\\site-packages\\lpips\\weights\\v0.1\\alex.pth\n",
      "Testing 0 1                    - PSNR: 26.08 dB; SSIM: 0.7960; PSNR_Y: 29.59 dB; SSIM_Y: 0.8800; LPIPS: 0.0876\n",
      "Testing 1 10                   - PSNR: 31.08 dB; SSIM: 0.7842; PSNR_Y: 34.13 dB; SSIM_Y: 0.9314; LPIPS: 0.0699\n",
      "Testing 2 11                   - PSNR: 31.53 dB; SSIM: 0.7417; PSNR_Y: 34.35 dB; SSIM_Y: 0.9240; LPIPS: 0.0961\n",
      "Testing 3 12                   - PSNR: 31.70 dB; SSIM: 0.8528; PSNR_Y: 34.99 dB; SSIM_Y: 0.9315; LPIPS: 0.1304\n",
      "Testing 4 13                   - PSNR: 33.64 dB; SSIM: 0.8592; PSNR_Y: 37.16 dB; SSIM_Y: 0.9185; LPIPS: 0.1878\n",
      "Testing 5 14                   - PSNR: 31.88 dB; SSIM: 0.7922; PSNR_Y: 35.28 dB; SSIM_Y: 0.9216; LPIPS: 0.1119\n",
      "Testing 6 15                   - PSNR: 31.47 dB; SSIM: 0.6874; PSNR_Y: 34.79 dB; SSIM_Y: 0.9233; LPIPS: 0.0816\n",
      "Testing 7 16                   - PSNR: 28.52 dB; SSIM: 0.7800; PSNR_Y: 30.83 dB; SSIM_Y: 0.9014; LPIPS: 0.0634\n",
      "Testing 8 17                   - PSNR: 28.36 dB; SSIM: 0.7904; PSNR_Y: 33.17 dB; SSIM_Y: 0.9114; LPIPS: 0.0880\n",
      "Testing 9 18                   - PSNR: 29.14 dB; SSIM: 0.8134; PSNR_Y: 30.92 dB; SSIM_Y: 0.8875; LPIPS: 0.1103\n",
      "Testing 10 2                    - PSNR: 29.45 dB; SSIM: 0.7742; PSNR_Y: 32.52 dB; SSIM_Y: 0.9120; LPIPS: 0.1002\n",
      "Testing 11 3                    - PSNR: 28.82 dB; SSIM: 0.8620; PSNR_Y: 31.43 dB; SSIM_Y: 0.9212; LPIPS: 0.0643\n",
      "Testing 12 4                    - PSNR: 28.02 dB; SSIM: 0.8847; PSNR_Y: 30.41 dB; SSIM_Y: 0.9165; LPIPS: 0.1253\n",
      "Testing 13 5                    - PSNR: 29.22 dB; SSIM: 0.8208; PSNR_Y: 32.33 dB; SSIM_Y: 0.8915; LPIPS: 0.0984\n",
      "Testing 14 6                    - PSNR: 30.72 dB; SSIM: 0.8349; PSNR_Y: 33.98 dB; SSIM_Y: 0.9151; LPIPS: 0.0893\n",
      "Testing 15 7                    - PSNR: 29.90 dB; SSIM: 0.8031; PSNR_Y: 31.82 dB; SSIM_Y: 0.8856; LPIPS: 0.1722\n",
      "Testing 16 8                    - PSNR: 31.71 dB; SSIM: 0.6721; PSNR_Y: 33.52 dB; SSIM_Y: 0.9438; LPIPS: 0.0828\n",
      "Testing 17 9                    - PSNR: 31.05 dB; SSIM: 0.8186; PSNR_Y: 34.05 dB; SSIM_Y: 0.9228; LPIPS: 0.1000\n",
      "\n",
      "results/input_mask_80_90/McM_poisson_20_75 \n",
      "-- Average PSNR/SSIM(RGB): 30.13 dB; 0.7982\n",
      "-- Average PSNR_Y/SSIM_Y/LPIPS: 33.07/0.9133/0.1033\n"
     ]
    },
    {
     "name": "stderr",
     "output_type": "stream",
     "text": [
      "c:\\Users\\laksh\\AppData\\Local\\Programs\\Python\\Python312\\Lib\\site-packages\\torch\\functional.py:513: UserWarning: torch.meshgrid: in an upcoming release, it will be required to pass the indexing argument. (Triggered internally at C:\\actions-runner\\_work\\pytorch\\pytorch\\builder\\windows\\pytorch\\aten\\src\\ATen\\native\\TensorShape.cpp:3610.)\n",
      "  return _VF.meshgrid(tensors, **kwargs)  # type: ignore[attr-defined]\n",
      "c:\\Users\\laksh\\Downloads\\MaskedDenoising-main (1)\\MaskedDenoising-main\\main_test_swinir.py:198: FutureWarning: You are using `torch.load` with `weights_only=False` (the current default value), which uses the default pickle module implicitly. It is possible to construct malicious pickle data which will execute arbitrary code during unpickling (See https://github.com/pytorch/pytorch/blob/main/SECURITY.md#untrusted-models for more details). In a future release, the default value for `weights_only` will be flipped to `True`. This limits the functions that could be executed during unpickling. Arbitrary objects will no longer be allowed to be loaded via this mode unless they are explicitly allowlisted by the user via `torch.serialization.add_safe_globals`. We recommend you start setting `weights_only=True` for any use case where you don't have full control of the loaded file. Please open an issue on GitHub for any issues related to this experimental feature.\n",
      "  pretrained_model = torch.load(args.model_path)\n",
      "c:\\Users\\laksh\\AppData\\Local\\Programs\\Python\\Python312\\Lib\\site-packages\\torchvision\\models\\_utils.py:208: UserWarning: The parameter 'pretrained' is deprecated since 0.13 and may be removed in the future, please use 'weights' instead.\n",
      "  warnings.warn(\n",
      "c:\\Users\\laksh\\AppData\\Local\\Programs\\Python\\Python312\\Lib\\site-packages\\torchvision\\models\\_utils.py:223: UserWarning: Arguments other than a weight enum or `None` for 'weights' are deprecated since 0.13 and may be removed in the future. The current behavior is equivalent to passing `weights=AlexNet_Weights.IMAGENET1K_V1`. You can also use `weights=AlexNet_Weights.DEFAULT` to get the most up-to-date weights.\n",
      "  warnings.warn(msg)\n",
      "c:\\Users\\laksh\\AppData\\Local\\Programs\\Python\\Python312\\Lib\\site-packages\\lpips\\lpips.py:107: FutureWarning: You are using `torch.load` with `weights_only=False` (the current default value), which uses the default pickle module implicitly. It is possible to construct malicious pickle data which will execute arbitrary code during unpickling (See https://github.com/pytorch/pytorch/blob/main/SECURITY.md#untrusted-models for more details). In a future release, the default value for `weights_only` will be flipped to `True`. This limits the functions that could be executed during unpickling. Arbitrary objects will no longer be allowed to be loaded via this mode unless they are explicitly allowlisted by the user via `torch.serialization.add_safe_globals`. We recommend you start setting `weights_only=True` for any use case where you don't have full control of the loaded file. Please open an issue on GitHub for any issues related to this experimental feature.\n",
      "  self.load_state_dict(torch.load(model_path, map_location='cpu'), strict=False)\n"
     ]
    }
   ],
   "source": [
    "!python main_test_swinir.py --model_path model_zoo/input_mask_80_90.pth --name input_mask_80_90/McM_poisson_20_75 --opt model_zoo/input_mask_80_90.json --folder_gt testset/McM/HR --folder_lq testset/McM/McM_poisson_20\n"
   ]
  },
  {
   "cell_type": "markdown",
   "metadata": {},
   "source": [
    "85%"
   ]
  },
  {
   "cell_type": "code",
   "execution_count": 17,
   "metadata": {},
   "outputs": [
    {
     "name": "stdout",
     "output_type": "stream",
     "text": [
      "export CUDA_VISIBLE_DEVICES=0\n",
      "number of GPUs is: 1\n",
      "loading model from model_zoo/input_mask_80_90.pth\n",
      "testset/McM/HR\n",
      "Setting up [LPIPS] perceptual loss: trunk [alex], v[0.1], spatial [off]\n",
      "Loading model from: c:\\Users\\laksh\\AppData\\Local\\Programs\\Python\\Python312\\Lib\\site-packages\\lpips\\weights\\v0.1\\alex.pth\n",
      "Testing 0 1                    - PSNR: 25.98 dB; SSIM: 0.7918; PSNR_Y: 29.52 dB; SSIM_Y: 0.8800; LPIPS: 0.0801\n",
      "Testing 1 10                   - PSNR: 30.36 dB; SSIM: 0.7784; PSNR_Y: 33.61 dB; SSIM_Y: 0.9255; LPIPS: 0.0740\n",
      "Testing 2 11                   - PSNR: 31.14 dB; SSIM: 0.7383; PSNR_Y: 34.29 dB; SSIM_Y: 0.9212; LPIPS: 0.0951\n",
      "Testing 3 12                   - PSNR: 31.23 dB; SSIM: 0.8423; PSNR_Y: 34.37 dB; SSIM_Y: 0.9221; LPIPS: 0.1366\n",
      "Testing 4 13                   - PSNR: 33.10 dB; SSIM: 0.8438; PSNR_Y: 36.48 dB; SSIM_Y: 0.9059; LPIPS: 0.1930\n",
      "Testing 5 14                   - PSNR: 31.08 dB; SSIM: 0.7755; PSNR_Y: 34.80 dB; SSIM_Y: 0.9184; LPIPS: 0.1092\n",
      "Testing 6 15                   - PSNR: 30.73 dB; SSIM: 0.6850; PSNR_Y: 34.13 dB; SSIM_Y: 0.9187; LPIPS: 0.0807\n",
      "Testing 7 16                   - PSNR: 28.17 dB; SSIM: 0.7841; PSNR_Y: 30.41 dB; SSIM_Y: 0.9025; LPIPS: 0.0627\n",
      "Testing 8 17                   - PSNR: 27.64 dB; SSIM: 0.7730; PSNR_Y: 32.81 dB; SSIM_Y: 0.9075; LPIPS: 0.0912\n",
      "Testing 9 18                   - PSNR: 29.16 dB; SSIM: 0.8128; PSNR_Y: 31.08 dB; SSIM_Y: 0.8866; LPIPS: 0.1068\n",
      "Testing 10 2                    - PSNR: 28.90 dB; SSIM: 0.7640; PSNR_Y: 32.33 dB; SSIM_Y: 0.9104; LPIPS: 0.1053\n",
      "Testing 11 3                    - PSNR: 28.76 dB; SSIM: 0.8609; PSNR_Y: 31.45 dB; SSIM_Y: 0.9183; LPIPS: 0.0637\n",
      "Testing 12 4                    - PSNR: 28.58 dB; SSIM: 0.8936; PSNR_Y: 31.29 dB; SSIM_Y: 0.9245; LPIPS: 0.1196\n",
      "Testing 13 5                    - PSNR: 29.04 dB; SSIM: 0.8172; PSNR_Y: 32.29 dB; SSIM_Y: 0.8893; LPIPS: 0.1024\n",
      "Testing 14 6                    - PSNR: 30.31 dB; SSIM: 0.8294; PSNR_Y: 33.68 dB; SSIM_Y: 0.9114; LPIPS: 0.0957\n",
      "Testing 15 7                    - PSNR: 29.87 dB; SSIM: 0.8073; PSNR_Y: 31.97 dB; SSIM_Y: 0.8860; LPIPS: 0.1673\n",
      "Testing 16 8                    - PSNR: 31.72 dB; SSIM: 0.6835; PSNR_Y: 33.54 dB; SSIM_Y: 0.9433; LPIPS: 0.0824\n",
      "Testing 17 9                    - PSNR: 30.71 dB; SSIM: 0.8104; PSNR_Y: 34.01 dB; SSIM_Y: 0.9172; LPIPS: 0.1041\n",
      "\n",
      "results/input_mask_80_90/McM_poisson_20_85 \n",
      "-- Average PSNR/SSIM(RGB): 29.80 dB; 0.7940\n",
      "-- Average PSNR_Y/SSIM_Y/LPIPS: 32.89/0.9105/0.1039\n"
     ]
    },
    {
     "name": "stderr",
     "output_type": "stream",
     "text": [
      "c:\\Users\\laksh\\AppData\\Local\\Programs\\Python\\Python312\\Lib\\site-packages\\torch\\functional.py:513: UserWarning: torch.meshgrid: in an upcoming release, it will be required to pass the indexing argument. (Triggered internally at C:\\actions-runner\\_work\\pytorch\\pytorch\\builder\\windows\\pytorch\\aten\\src\\ATen\\native\\TensorShape.cpp:3610.)\n",
      "  return _VF.meshgrid(tensors, **kwargs)  # type: ignore[attr-defined]\n",
      "c:\\Users\\laksh\\Downloads\\MaskedDenoising-main (1)\\MaskedDenoising-main\\main_test_swinir.py:198: FutureWarning: You are using `torch.load` with `weights_only=False` (the current default value), which uses the default pickle module implicitly. It is possible to construct malicious pickle data which will execute arbitrary code during unpickling (See https://github.com/pytorch/pytorch/blob/main/SECURITY.md#untrusted-models for more details). In a future release, the default value for `weights_only` will be flipped to `True`. This limits the functions that could be executed during unpickling. Arbitrary objects will no longer be allowed to be loaded via this mode unless they are explicitly allowlisted by the user via `torch.serialization.add_safe_globals`. We recommend you start setting `weights_only=True` for any use case where you don't have full control of the loaded file. Please open an issue on GitHub for any issues related to this experimental feature.\n",
      "  pretrained_model = torch.load(args.model_path)\n",
      "c:\\Users\\laksh\\AppData\\Local\\Programs\\Python\\Python312\\Lib\\site-packages\\torchvision\\models\\_utils.py:208: UserWarning: The parameter 'pretrained' is deprecated since 0.13 and may be removed in the future, please use 'weights' instead.\n",
      "  warnings.warn(\n",
      "c:\\Users\\laksh\\AppData\\Local\\Programs\\Python\\Python312\\Lib\\site-packages\\torchvision\\models\\_utils.py:223: UserWarning: Arguments other than a weight enum or `None` for 'weights' are deprecated since 0.13 and may be removed in the future. The current behavior is equivalent to passing `weights=AlexNet_Weights.IMAGENET1K_V1`. You can also use `weights=AlexNet_Weights.DEFAULT` to get the most up-to-date weights.\n",
      "  warnings.warn(msg)\n",
      "c:\\Users\\laksh\\AppData\\Local\\Programs\\Python\\Python312\\Lib\\site-packages\\lpips\\lpips.py:107: FutureWarning: You are using `torch.load` with `weights_only=False` (the current default value), which uses the default pickle module implicitly. It is possible to construct malicious pickle data which will execute arbitrary code during unpickling (See https://github.com/pytorch/pytorch/blob/main/SECURITY.md#untrusted-models for more details). In a future release, the default value for `weights_only` will be flipped to `True`. This limits the functions that could be executed during unpickling. Arbitrary objects will no longer be allowed to be loaded via this mode unless they are explicitly allowlisted by the user via `torch.serialization.add_safe_globals`. We recommend you start setting `weights_only=True` for any use case where you don't have full control of the loaded file. Please open an issue on GitHub for any issues related to this experimental feature.\n",
      "  self.load_state_dict(torch.load(model_path, map_location='cpu'), strict=False)\n"
     ]
    }
   ],
   "source": [
    "!python main_test_swinir.py --model_path model_zoo/input_mask_80_90.pth --name input_mask_80_90/McM_poisson_20_85 --opt model_zoo/input_mask_80_90.json --folder_gt testset/McM/HR --folder_lq testset/McM/McM_poisson_20\n"
   ]
  },
  {
   "cell_type": "code",
   "execution_count": 37,
   "metadata": {},
   "outputs": [
    {
     "name": "stdout",
     "output_type": "stream",
     "text": [
      "export CUDA_VISIBLE_DEVICES=0\n",
      "number of GPUs is: 1\n",
      "Loading model from masked_denoising/input_80_90/models/new.pth\n",
      "Removing 'module.' prefix from state_dict keys.\n",
      "Model loaded successfully.\n",
      "testset/McM/HR\n",
      "Setting up [LPIPS] perceptual loss: trunk [alex], v[0.1], spatial [off]\n",
      "Loading model from: c:\\Users\\laksh\\AppData\\Local\\Programs\\Python\\Python312\\Lib\\site-packages\\lpips\\weights\\v0.1\\alex.pth\n",
      "Testing 0 1                    - PSNR: 18.70 dB; SSIM: 0.6640; PSNR_Y: 22.84 dB; SSIM_Y: 0.7928; LPIPS: 0.2440\n",
      "Testing 1 10                   - PSNR: 16.98 dB; SSIM: 0.6055; PSNR_Y: 21.81 dB; SSIM_Y: 0.8121; LPIPS: 0.2783\n",
      "Testing 2 11                   - PSNR: 16.95 dB; SSIM: 0.5981; PSNR_Y: 20.90 dB; SSIM_Y: 0.7919; LPIPS: 0.2678\n",
      "Testing 3 12                   - PSNR: 18.71 dB; SSIM: 0.6340; PSNR_Y: 22.64 dB; SSIM_Y: 0.7795; LPIPS: 0.3706\n",
      "Testing 4 13                   - PSNR: 20.68 dB; SSIM: 0.6120; PSNR_Y: 21.53 dB; SSIM_Y: 0.7384; LPIPS: 0.4161\n",
      "Testing 5 14                   - PSNR: 18.34 dB; SSIM: 0.6292; PSNR_Y: 22.42 dB; SSIM_Y: 0.7985; LPIPS: 0.3023\n",
      "Testing 6 15                   - PSNR: 16.83 dB; SSIM: 0.5984; PSNR_Y: 20.82 dB; SSIM_Y: 0.7879; LPIPS: 0.2559\n",
      "Testing 7 16                   - PSNR: 16.92 dB; SSIM: 0.5736; PSNR_Y: 19.19 dB; SSIM_Y: 0.7469; LPIPS: 0.2959\n",
      "Testing 8 17                   - PSNR: 17.08 dB; SSIM: 0.5964; PSNR_Y: 21.79 dB; SSIM_Y: 0.7634; LPIPS: 0.2476\n",
      "Testing 9 18                   - PSNR: 18.76 dB; SSIM: 0.6661; PSNR_Y: 21.16 dB; SSIM_Y: 0.7905; LPIPS: 0.2734\n",
      "Testing 10 2                    - PSNR: 19.29 dB; SSIM: 0.6742; PSNR_Y: 24.22 dB; SSIM_Y: 0.8263; LPIPS: 0.2497\n",
      "Testing 11 3                    - PSNR: 19.32 dB; SSIM: 0.7097; PSNR_Y: 21.05 dB; SSIM_Y: 0.8106; LPIPS: 0.2598\n",
      "Testing 12 4                    - PSNR: 21.70 dB; SSIM: 0.7761; PSNR_Y: 24.85 dB; SSIM_Y: 0.8640; LPIPS: 0.2389\n",
      "Testing 13 5                    - PSNR: 19.69 dB; SSIM: 0.7037; PSNR_Y: 22.30 dB; SSIM_Y: 0.8270; LPIPS: 0.2995\n",
      "Testing 14 6                    - PSNR: 21.20 dB; SSIM: 0.7019; PSNR_Y: 25.23 dB; SSIM_Y: 0.8616; LPIPS: 0.2395\n",
      "Testing 15 7                    - PSNR: 20.20 dB; SSIM: 0.7096; PSNR_Y: 21.99 dB; SSIM_Y: 0.8189; LPIPS: 0.2907\n",
      "Testing 16 8                    - PSNR: 23.44 dB; SSIM: 0.6514; PSNR_Y: 25.02 dB; SSIM_Y: 0.8936; LPIPS: 0.1985\n",
      "Testing 17 9                    - PSNR: 19.06 dB; SSIM: 0.6651; PSNR_Y: 21.73 dB; SSIM_Y: 0.8139; LPIPS: 0.2778\n",
      "\n",
      "results/input_mask_80_90/McM_poisson_20_mymodel \n",
      "-- Average PSNR/SSIM(RGB): 19.10 dB; 0.6538\n",
      "-- Average PSNR_Y/SSIM_Y/LPIPS: 22.31/0.8065/0.2781\n"
     ]
    },
    {
     "name": "stderr",
     "output_type": "stream",
     "text": [
      "c:\\Users\\laksh\\AppData\\Local\\Programs\\Python\\Python312\\Lib\\site-packages\\torch\\functional.py:513: UserWarning: torch.meshgrid: in an upcoming release, it will be required to pass the indexing argument. (Triggered internally at C:\\actions-runner\\_work\\pytorch\\pytorch\\builder\\windows\\pytorch\\aten\\src\\ATen\\native\\TensorShape.cpp:3610.)\n",
      "  return _VF.meshgrid(tensors, **kwargs)  # type: ignore[attr-defined]\n",
      "c:\\Users\\laksh\\Downloads\\MaskedDenoising-main (1)\\MaskedDenoising-main\\main_test_swinir.py:261: FutureWarning: You are using `torch.load` with `weights_only=False` (the current default value), which uses the default pickle module implicitly. It is possible to construct malicious pickle data which will execute arbitrary code during unpickling (See https://github.com/pytorch/pytorch/blob/main/SECURITY.md#untrusted-models for more details). In a future release, the default value for `weights_only` will be flipped to `True`. This limits the functions that could be executed during unpickling. Arbitrary objects will no longer be allowed to be loaded via this mode unless they are explicitly allowlisted by the user via `torch.serialization.add_safe_globals`. We recommend you start setting `weights_only=True` for any use case where you don't have full control of the loaded file. Please open an issue on GitHub for any issues related to this experimental feature.\n",
      "  pretrained_model = torch.load(args.model_path, map_location='cpu')\n",
      "c:\\Users\\laksh\\AppData\\Local\\Programs\\Python\\Python312\\Lib\\site-packages\\torchvision\\models\\_utils.py:208: UserWarning: The parameter 'pretrained' is deprecated since 0.13 and may be removed in the future, please use 'weights' instead.\n",
      "  warnings.warn(\n",
      "c:\\Users\\laksh\\AppData\\Local\\Programs\\Python\\Python312\\Lib\\site-packages\\torchvision\\models\\_utils.py:223: UserWarning: Arguments other than a weight enum or `None` for 'weights' are deprecated since 0.13 and may be removed in the future. The current behavior is equivalent to passing `weights=AlexNet_Weights.IMAGENET1K_V1`. You can also use `weights=AlexNet_Weights.DEFAULT` to get the most up-to-date weights.\n",
      "  warnings.warn(msg)\n",
      "c:\\Users\\laksh\\AppData\\Local\\Programs\\Python\\Python312\\Lib\\site-packages\\lpips\\lpips.py:107: FutureWarning: You are using `torch.load` with `weights_only=False` (the current default value), which uses the default pickle module implicitly. It is possible to construct malicious pickle data which will execute arbitrary code during unpickling (See https://github.com/pytorch/pytorch/blob/main/SECURITY.md#untrusted-models for more details). In a future release, the default value for `weights_only` will be flipped to `True`. This limits the functions that could be executed during unpickling. Arbitrary objects will no longer be allowed to be loaded via this mode unless they are explicitly allowlisted by the user via `torch.serialization.add_safe_globals`. We recommend you start setting `weights_only=True` for any use case where you don't have full control of the loaded file. Please open an issue on GitHub for any issues related to this experimental feature.\n",
      "  self.load_state_dict(torch.load(model_path, map_location='cpu'), strict=False)\n"
     ]
    }
   ],
   "source": [
    "!python main_test_swinir.py --model_path masked_denoising/input_80_90/models/new.pth --name input_mask_80_90/McM_poisson_20_mymodel --opt model_zoo/input_mask_80_90.json --folder_gt testset/McM/HR --folder_lq testset/McM/McM_poisson_20\n",
    "\n"
   ]
  }
 ],
 "metadata": {
  "kernelspec": {
   "display_name": "Python 3",
   "language": "python",
   "name": "python3"
  },
  "language_info": {
   "codemirror_mode": {
    "name": "ipython",
    "version": 3
   },
   "file_extension": ".py",
   "mimetype": "text/x-python",
   "name": "python",
   "nbconvert_exporter": "python",
   "pygments_lexer": "ipython3",
   "version": "3.12.4"
  }
 },
 "nbformat": 4,
 "nbformat_minor": 2
}
